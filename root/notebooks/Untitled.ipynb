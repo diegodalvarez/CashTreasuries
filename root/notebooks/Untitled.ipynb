{
 "cells": [
  {
   "cell_type": "code",
   "execution_count": 1,
   "id": "e9afe6d3-6512-4421-a5c6-0e3aa0545aab",
   "metadata": {},
   "outputs": [],
   "source": [
    "import os\n",
    "import numpy as np\n",
    "import pandas as pd\n",
    "import matplotlib.pyplot as plt"
   ]
  },
  {
   "cell_type": "code",
   "execution_count": 31,
   "id": "fc4ff7ce-973c-47d0-a633-7564c8dab6be",
   "metadata": {},
   "outputs": [],
   "source": [
    "path = r\"/Users/diegoalvarez/Desktop/CashTreasuries/data/RawGitHubData\""
   ]
  },
  {
   "cell_type": "markdown",
   "id": "c7b4998a-a894-47fe-a59c-1cfeffa1fd36",
   "metadata": {},
   "source": [
    "# Filtered Auction"
   ]
  },
  {
   "cell_type": "markdown",
   "id": "1430abd1-77e8-4a21-a01f-1881f92385a8",
   "metadata": {},
   "source": [
    "These are the active coupons"
   ]
  },
  {
   "cell_type": "code",
   "execution_count": 29,
   "id": "4da7aeb6-71e0-488c-88e3-4afa3f0609e5",
   "metadata": {},
   "outputs": [],
   "source": [
    "def get_auction_info(path: str) -> pd.DataFrame:\n",
    "\n",
    "    tmp_path = os.path.join(path, r\"filtered_auctions.xlsx\")\n",
    "    \n",
    "    df_key = (pd.read_excel(\n",
    "        io = tmp_path, index_col = [0,1]).\n",
    "        reset_index(drop = True).\n",
    "        assign(\n",
    "            auction_date = lambda x: pd.to_datetime(x.auction_date).dt.date,\n",
    "            issue_date   = lambda x: pd.to_datetime(x.issue_date).dt.date))\n",
    "\n",
    "    return df_key\n",
    "\n",
    "df_key = get_auction_info(path)"
   ]
  },
  {
   "cell_type": "markdown",
   "id": "b14045a1-77f5-4cfe-932a-9c10f6471153",
   "metadata": {},
   "source": [
    "# Historical Auctions == Historical Treasury Auctions -> TreasuryAuct"
   ]
  },
  {
   "cell_type": "code",
   "execution_count": 8,
   "id": "6f9804eb-ae54-4892-b80e-96bcb17d1847",
   "metadata": {},
   "outputs": [],
   "source": [
    "melt_cols = list(df_key.columns) + [\"record_date\"] + [\"security_term\"]"
   ]
  },
  {
   "cell_type": "markdown",
   "id": "0a3c8e86-a2e3-4435-9411-20c77bbc63a7",
   "metadata": {},
   "source": [
    "Work on ```historical auctions``` part"
   ]
  },
  {
   "cell_type": "code",
   "execution_count": 33,
   "id": "45234a37-f249-491f-addf-f0226474319c",
   "metadata": {},
   "outputs": [],
   "source": [
    "def _get_historical_auctions(path: str, melt_cols: list) -> pd.DataFrame:\n",
    "\n",
    "    tmp_path = os.path.join(path, r\"historical_auctions.xlsx\")\n",
    "    \n",
    "    df_historical_auctions = (pd.read_excel(\n",
    "        io = tmp_path, index_col = 0).\n",
    "        melt(id_vars = melt_cols).\n",
    "        dropna().\n",
    "        assign(\n",
    "            auction_date = lambda x: pd.to_datetime(x.auction_date).dt.date,\n",
    "            issue_date   = lambda x: pd.to_datetime(x.issue_date).dt.date,\n",
    "            record_date  = lambda x: pd.to_datetime(x.record_date).dt.date))\n",
    "\n",
    "    return df_historical_auctions\n",
    "\n",
    "df_historical_auctions = _get_historical_auctions(path, melt_cols)"
   ]
  },
  {
   "cell_type": "markdown",
   "id": "44dbb5ef-045d-493c-a9db-969cdb4613ed",
   "metadata": {},
   "source": [
    "Work on ```historical treasury auctions``` part"
   ]
  },
  {
   "cell_type": "code",
   "execution_count": 35,
   "id": "914d0399-64c4-455d-8c84-98670a92a814",
   "metadata": {},
   "outputs": [],
   "source": [
    "def _get_historical_treasury_auctions(path: str, melt_cols: list) -> pd.DataFrame: \n",
    "\n",
    "    tmp_path = os.path.join(path, r\"Histroical_Treasury_Auctions.xlsx\")\n",
    "    \n",
    "    df_historical = (pd.read_excel(\n",
    "        io = tmp_path, index_col = 0).\n",
    "        melt(id_vars = melt_cols).\n",
    "        dropna().\n",
    "        assign(\n",
    "            auction_date = lambda x: pd.to_datetime(x.auction_date).dt.date,\n",
    "            issue_date   = lambda x: pd.to_datetime(x.issue_date).dt.date,\n",
    "            record_date  = lambda x: pd.to_datetime(x.record_date).dt.date))\n",
    "\n",
    "    return df_historical\n",
    "\n",
    "df_historical_treasury_auctions = _get_historical_treasury_auctions(path, melt_cols)"
   ]
  },
  {
   "cell_type": "markdown",
   "id": "e8d4bb0d-814d-41ad-933c-6d0deba1d36e",
   "metadata": {},
   "source": [
    "Now combine the two "
   ]
  },
  {
   "cell_type": "code",
   "execution_count": 14,
   "id": "c65aac60-3723-46ca-a2ef-42318e93ac62",
   "metadata": {},
   "outputs": [],
   "source": [
    "def combine_auction_data(melt_cols: list, df_historical_auctions: pd.DataFrame, df_historical_treasury_auctions: pd.DataFrame) -> pd.DataFrame:\n",
    "    \n",
    "    merge_cols = melt_cols + [\"variable\"]\n",
    "    \n",
    "    df_left = (df_historical_auctions.rename(\n",
    "        columns = {\"value\": \"from_historical_auctions\"}))\n",
    "    \n",
    "    df_right = (df_historical_treasury_auctions.rename(\n",
    "        columns = {\"value\": \"from_historical_treasury_auctions\"}))\n",
    "    \n",
    "    df_combined = (df_left.merge(\n",
    "        right = df_right, how = \"outer\", on = merge_cols))\n",
    "    \n",
    "    df_out = (df_combined.assign(\n",
    "        new_val = lambda x: np.where(\n",
    "            x.from_historical_auctions != x.from_historical_treasury_auctions,\n",
    "            np.nan,\n",
    "            x.from_historical_treasury_auctions)).\n",
    "        assign(new_val = lambda x: x.new_val.fillna(x.from_historical_auctions)).\n",
    "        assign(new_val = lambda x: x.new_val.fillna(x.from_historical_treasury_auctions)).\n",
    "        drop(columns = [\"from_historical_treasury_auctions\", \"from_historical_auctions\"]))\n",
    "\n",
    "    return df_out\n",
    "\n",
    "df_combined = combine_auction_data(melt_cols, df_historical_auctions, df_historical_treasury_auctions)"
   ]
  },
  {
   "cell_type": "markdown",
   "id": "7fb6bbc8-0763-4146-aaaa-bed67c64ca12",
   "metadata": {},
   "source": [
    "# market_observed_treasuries.xlsx"
   ]
  },
  {
   "cell_type": "code",
   "execution_count": 374,
   "id": "8b64d107-4e41-4020-a4fc-6a4ccd59a902",
   "metadata": {},
   "outputs": [],
   "source": [
    "def combine_observed_treasuries(path: str) -> pd.DataFrame:\n",
    "\n",
    "    files = [os.path.join(path, file) for file in os.listdir(path) if len(file.split(\"_\")) == 6]\n",
    "    \n",
    "    df_observed = (pd.concat([\n",
    "        pd.read_excel(io = file, index_col = 0).assign(group = file.split(\"/\")[-1].split(\".\")[0].split(\"usts_\")[-1])\n",
    "        for file in files]).\n",
    "        melt(id_vars = [\"Action\", \"Description\", \"group\", \"last_updated\"]).\n",
    "        dropna().\n",
    "        drop_duplicates())\n",
    "    \n",
    "    df_out = (df_observed.groupby(\n",
    "        [\"Action\", \"Description\", \"group\", \"last_updated\", \"variable\"]).\n",
    "        head(1).\n",
    "        pivot(index = [\"Action\", \"Description\", \"last_updated\", \"variable\"], columns = \"group\", values = \"value\").\n",
    "        reset_index().\n",
    "        assign(new_val = \n",
    "               lambda x: np.where(\n",
    "                   (x.auctioned_after_2000 == x.auctioned_after_2005) & (x.auctioned_after_2005 == x.auctioned_after_2010),\n",
    "                   x.auctioned_after_2000,\n",
    "                   np.nan)).\n",
    "        assign(new_val = lambda x: x.new_val.fillna(x.auctioned_after_2000)).\n",
    "        assign(new_val = lambda x: x.new_val.fillna(x.auctioned_after_2005)).\n",
    "        assign(new_val = lambda x: x.new_val.fillna(x.auctioned_after_2010)).\n",
    "        drop(columns = [\"auctioned_after_2000\", \"auctioned_after_2005\", \"auctioned_after_2010\"]))\n",
    "\n",
    "    return df_out\n",
    "\n",
    "df_observed = combine_observed_treasuries(path)"
   ]
  },
  {
   "cell_type": "code",
   "execution_count": null,
   "id": "eb73576b-2e6b-48c7-9089-5e2c9b2898af",
   "metadata": {},
   "outputs": [],
   "source": []
  }
 ],
 "metadata": {
  "kernelspec": {
   "display_name": "Python 3 (ipykernel)",
   "language": "python",
   "name": "python3"
  },
  "language_info": {
   "codemirror_mode": {
    "name": "ipython",
    "version": 3
   },
   "file_extension": ".py",
   "mimetype": "text/x-python",
   "name": "python",
   "nbconvert_exporter": "python",
   "pygments_lexer": "ipython3",
   "version": "3.12.7"
  }
 },
 "nbformat": 4,
 "nbformat_minor": 5
}
